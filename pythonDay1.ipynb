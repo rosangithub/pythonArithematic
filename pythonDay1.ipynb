{
 "cells": [
  {
   "cell_type": "code",
   "execution_count": 1,
   "id": "e672d6bb-5eff-4fb2-ae88-421ab05eb2f1",
   "metadata": {},
   "outputs": [
    {
     "name": "stdout",
     "output_type": "stream",
     "text": [
      "hello gyes ,My name is Rosan Shrestha\n"
     ]
    }
   ],
   "source": [
    "print(\"hello gyes ,My name is Rosan Shrestha\")"
   ]
  },
  {
   "cell_type": "code",
   "execution_count": null,
   "id": "e323f41c-0a9d-4bfc-bce5-300f45889438",
   "metadata": {},
   "outputs": [
    {
     "name": "stdout",
     "output_type": "stream",
     "text": [
      "1: Addition\n",
      "2: Subtraction\n",
      "3: Multiplication\n",
      "4: Division\n",
      "5: Modulo\n",
      "6: Exponential\n"
     ]
    }
   ],
   "source": [
    "# Displaying menu\n",
    "print(\"1: Addition\")\n",
    "print(\"2: Subtraction\")\n",
    "print(\"3: Multiplication\")\n",
    "print(\"4: Division\")\n",
    "print(\"5: Modulo\")\n",
    "print(\"6: Exponential\")\n",
    "\n",
    "# Using a loop to keep asking for input and choice\n",
    "while True:\n",
    "    \n",
    "    a = float(input(\"Enter first number: \"))\n",
    "    b = float(input(\"Enter second number: \"))\n",
    "\n",
    "    # Asking the user to select an operation\n",
    "    choice = int(input(\"Enter your choice: \"))\n",
    "    \n",
    "    if choice == 1:\n",
    "        print(\"Sum of a and b is:\", a + b)\n",
    "        break\n",
    "    elif choice == 2:\n",
    "        print(\"Subtraction of a and b is:\", a - b)\n",
    "        break\n",
    "    elif choice == 3:\n",
    "        print(\"Multiplication of a and b is:\", a * b)\n",
    "        break\n",
    "    elif choice == 4:\n",
    "        if b == 0:\n",
    "            print(\"You cannot divide by zero.\")\n",
    "        else:\n",
    "            print(\"Division of a and b is:\", a / b)\n",
    "        break\n",
    "    elif choice == 5:\n",
    "        print(\"Modulo of a and b is:\", a % b)\n",
    "        break\n",
    "    elif choice == 6:\n",
    "        print(\"Exponential of a and b is:\", a ** b)\n",
    "        break\n",
    "    else:\n",
    "        print(\"Invalid choice, please try again.\")\n"
   ]
  },
  {
   "cell_type": "code",
   "execution_count": null,
   "id": "80f12ae4-1b38-417c-a177-a0e563da1bf6",
   "metadata": {},
   "outputs": [],
   "source": []
  },
  {
   "cell_type": "code",
   "execution_count": null,
   "id": "744dd8f4-7bb5-436a-8173-01b46e7c38f8",
   "metadata": {},
   "outputs": [],
   "source": []
  }
 ],
 "metadata": {
  "kernelspec": {
   "display_name": "Python 3 (ipykernel)",
   "language": "python",
   "name": "python3"
  },
  "language_info": {
   "codemirror_mode": {
    "name": "ipython",
    "version": 3
   },
   "file_extension": ".py",
   "mimetype": "text/x-python",
   "name": "python",
   "nbconvert_exporter": "python",
   "pygments_lexer": "ipython3",
   "version": "3.12.4"
  }
 },
 "nbformat": 4,
 "nbformat_minor": 5
}
